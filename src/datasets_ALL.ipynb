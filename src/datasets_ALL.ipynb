{
 "cells": [
  {
   "cell_type": "code",
   "execution_count": 1,
   "metadata": {},
   "outputs": [],
   "source": [
    "# パッケージ\n",
    "import numpy as np\n",
    "import pandas as pd"
   ]
  },
  {
   "cell_type": "code",
   "execution_count": 2,
   "metadata": {},
   "outputs": [],
   "source": [
    "# Device\n",
    "DEVICE = \"ALL\"\n",
    "DEVICE_PIXEL_RATIO = 3.0\n",
    "# file path\n",
    "PATHs = {\n",
    "    \"features\": \"../features/features.csv\",\n",
    "    \"all\": f'../features/{DEVICE}_ALL.csv',\n",
    "    \"hor\": f'../features/{DEVICE}_HOR.csv',\n",
    "    \"ver\": f'../features/{DEVICE}_VER.csv',\n",
    "    \"all_norm\": f'../features/{DEVICE}_ALL_NORM.csv',\n",
    "    \"hor_norm\": f'../features/{DEVICE}_HOR_NORM.csv',\n",
    "    \"ver_norm\": f'../features/{DEVICE}_VER_NORM.csv',\n",
    "}"
   ]
  },
  {
   "cell_type": "code",
   "execution_count": null,
   "metadata": {},
   "outputs": [],
   "source": []
  },
  {
   "cell_type": "markdown",
   "metadata": {},
   "source": [
    "#### Load features.csv"
   ]
  },
  {
   "cell_type": "code",
   "execution_count": 3,
   "metadata": {},
   "outputs": [],
   "source": [
    "# Load features.csv\n",
    "df_features = pd.DataFrame()\n",
    "filepath = PATHs[\"features\"]\n",
    "with open(filepath, \"r\") as f:\n",
    "    df_features = pd.read_csv(f, index_col=0)\n",
    "\n",
    "# Extract ALL data\n",
    "df_features = df_features.reset_index(drop=True)\n",
    "\n",
    "# df_features.tail(3)"
   ]
  },
  {
   "cell_type": "code",
   "execution_count": null,
   "metadata": {},
   "outputs": [],
   "source": []
  },
  {
   "cell_type": "markdown",
   "metadata": {},
   "source": [
    "#### Output 1"
   ]
  },
  {
   "cell_type": "code",
   "execution_count": 4,
   "metadata": {},
   "outputs": [],
   "source": [
    "#-- ALL STROKES --#\n",
    "filepath = PATHs[\"all\"]\n",
    "df_features.to_csv(filepath)"
   ]
  },
  {
   "cell_type": "code",
   "execution_count": 5,
   "metadata": {},
   "outputs": [],
   "source": [
    "#-- VERTICAL STROKES --#\n",
    "filepath = PATHs[\"ver\"]\n",
    "df_features.query(\"VER_HOR == 'v'\").reset_index(drop=True).to_csv(filepath)"
   ]
  },
  {
   "cell_type": "code",
   "execution_count": 6,
   "metadata": {},
   "outputs": [],
   "source": [
    "#-- HORIZONTAL STROKES --#\n",
    "filepath = PATHs[\"hor\"]\n",
    "df_features.query(\"VER_HOR == 'h'\").reset_index(drop=True).to_csv(filepath)"
   ]
  },
  {
   "cell_type": "code",
   "execution_count": null,
   "metadata": {},
   "outputs": [],
   "source": []
  },
  {
   "cell_type": "markdown",
   "metadata": {},
   "source": [
    "#### Output 2"
   ]
  },
  {
   "cell_type": "code",
   "execution_count": 7,
   "metadata": {},
   "outputs": [],
   "source": [
    "norm_cols = [\n",
    "    'INTER_STROKE_TIME', 'STROKE_DURATION',\n",
    "    'START_X', 'START_Y', 'STOP_X', 'STOP_Y',\n",
    "    'LENGTH_2EE', 'MEAN_RESULTANT_LENGTH',\n",
    "    # 'DIRECTION_FLAG',\n",
    "    'DIRECTION_EE',\n",
    "    'VEL_20', 'VEL_50', 'VEL_80',\n",
    "    'ACC_20', 'ACC_50', 'ACC_80',\n",
    "    'MED_VEL_L3', 'LARGEST_DEVIATION_EE',\n",
    "    'DEV_20', 'DEV_50', 'DEV_80',\n",
    "    'AVERAGE_DIRECTION', 'LENGTH_TRJ', 'RATIO_TRJ_2EE',\n",
    "    'AVERAGE_VELOCITY', 'MED_ACC_F5', 'MID_PRESSURE', 'MID_AREA',\n",
    "    # 'MID_FINGER_ORIENT',\n",
    "    # 'PHONE_ORIENT'\n",
    "    ]"
   ]
  },
  {
   "cell_type": "code",
   "execution_count": 8,
   "metadata": {},
   "outputs": [],
   "source": [
    "#-- NORM ALL STROKES --#\n",
    "df_tmp = df_features.reset_index(drop=True).copy()\n",
    "df_min = pd.DataFrame()\n",
    "df_max = pd.DataFrame()\n",
    "\n",
    "# Get maximum and minimum values\n",
    "df_min = df_tmp.loc[:,norm_cols].min()\n",
    "df_max = df_tmp.loc[:,norm_cols].max()\n",
    "df_min[\"START_X\"] = 0\n",
    "df_min[\"START_Y\"] = 0\n",
    "df_min[\"STOP_X\"]  = 0\n",
    "df_min[\"STOP_Y\"]  = 0\n",
    "df_max[\"START_X\"] = float(df_tmp.loc[0,\"SCREEN_WIDTH\"] ) * DEVICE_PIXEL_RATIO\n",
    "df_max[\"START_Y\"] = float(df_tmp.loc[0,\"SCREEN_HEIGHT\"]) * DEVICE_PIXEL_RATIO\n",
    "df_max[\"STOP_X\"]  = float(df_tmp.loc[0,\"SCREEN_WIDTH\"] ) * DEVICE_PIXEL_RATIO\n",
    "df_max[\"STOP_Y\"]  = float(df_tmp.loc[0,\"SCREEN_HEIGHT\"]) * DEVICE_PIXEL_RATIO\n",
    "\n",
    "# Min-max normalization\n",
    "df_tmp.loc[:,norm_cols] = (df_tmp.loc[:,norm_cols] - df_min) / (df_max - df_min)\n",
    "\n",
    "# Output\n",
    "filepath = PATHs[\"all_norm\"]\n",
    "df_tmp.to_csv(filepath)"
   ]
  },
  {
   "cell_type": "code",
   "execution_count": 9,
   "metadata": {},
   "outputs": [],
   "source": [
    "#-- NORM VERTICAL STROKES --#\n",
    "df_tmp = df_features.query(\"VER_HOR == 'v'\").reset_index(drop=True).copy()\n",
    "df_min = pd.DataFrame()\n",
    "df_max = pd.DataFrame()\n",
    "\n",
    "# Get maximum and minimum values\n",
    "df_min = df_tmp.loc[:,norm_cols].min()\n",
    "df_max = df_tmp.loc[:,norm_cols].max()\n",
    "df_min[\"START_X\"] = 0\n",
    "df_min[\"START_Y\"] = 0\n",
    "df_min[\"STOP_X\"]  = 0\n",
    "df_min[\"STOP_Y\"]  = 0\n",
    "df_max[\"START_X\"] = float(df_tmp.loc[0,\"SCREEN_WIDTH\"] ) * DEVICE_PIXEL_RATIO\n",
    "df_max[\"START_Y\"] = float(df_tmp.loc[0,\"SCREEN_HEIGHT\"]) * DEVICE_PIXEL_RATIO\n",
    "df_max[\"STOP_X\"]  = float(df_tmp.loc[0,\"SCREEN_WIDTH\"] ) * DEVICE_PIXEL_RATIO\n",
    "df_max[\"STOP_Y\"]  = float(df_tmp.loc[0,\"SCREEN_HEIGHT\"]) * DEVICE_PIXEL_RATIO\n",
    "\n",
    "# Min-max normalization\n",
    "df_tmp.loc[:,norm_cols] = (df_tmp.loc[:,norm_cols] - df_min) / (df_max - df_min)\n",
    "\n",
    "# Output\n",
    "filepath = PATHs[\"ver_norm\"]\n",
    "df_tmp.to_csv(filepath)"
   ]
  },
  {
   "cell_type": "code",
   "execution_count": 10,
   "metadata": {},
   "outputs": [],
   "source": [
    "#-- NORM HORIZONTAL STROKES --#\n",
    "df_tmp = df_features.query(\"VER_HOR == 'h'\").reset_index(drop=True).copy()\n",
    "df_min = pd.DataFrame()\n",
    "df_max = pd.DataFrame()\n",
    "\n",
    "# Get maximum and minimum values\n",
    "df_min = df_tmp.loc[:,norm_cols].min()\n",
    "df_max = df_tmp.loc[:,norm_cols].max()\n",
    "df_min[\"START_X\"] = 0\n",
    "df_min[\"START_Y\"] = 0\n",
    "df_min[\"STOP_X\"]  = 0\n",
    "df_min[\"STOP_Y\"]  = 0\n",
    "df_max[\"START_X\"] = float(df_tmp.loc[0,\"SCREEN_WIDTH\"] ) * DEVICE_PIXEL_RATIO\n",
    "df_max[\"START_Y\"] = float(df_tmp.loc[0,\"SCREEN_HEIGHT\"]) * DEVICE_PIXEL_RATIO\n",
    "df_max[\"STOP_X\"]  = float(df_tmp.loc[0,\"SCREEN_WIDTH\"] ) * DEVICE_PIXEL_RATIO\n",
    "df_max[\"STOP_Y\"]  = float(df_tmp.loc[0,\"SCREEN_HEIGHT\"]) * DEVICE_PIXEL_RATIO\n",
    "\n",
    "# Min-max normalization\n",
    "df_tmp.loc[:,norm_cols] = (df_tmp.loc[:,norm_cols] - df_min) / (df_max - df_min)\n",
    "\n",
    "# Output\n",
    "filepath = PATHs[\"hor_norm\"]\n",
    "df_tmp.to_csv(filepath)"
   ]
  },
  {
   "cell_type": "code",
   "execution_count": null,
   "metadata": {},
   "outputs": [],
   "source": []
  }
 ],
 "metadata": {
  "kernelspec": {
   "display_name": "Python 3",
   "language": "python",
   "name": "python3"
  },
  "language_info": {
   "codemirror_mode": {
    "name": "ipython",
    "version": 3
   },
   "file_extension": ".py",
   "mimetype": "text/x-python",
   "name": "python",
   "nbconvert_exporter": "python",
   "pygments_lexer": "ipython3",
   "version": "3.7.8"
  }
 },
 "nbformat": 4,
 "nbformat_minor": 2
}
